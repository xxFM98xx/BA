{
 "cells": [
  {
   "cell_type": "code",
   "execution_count": 1,
   "metadata": {},
   "outputs": [],
   "source": [
    "#Here you must specify your own path\n",
    "root = ''"
   ]
  },
  {
   "cell_type": "code",
   "execution_count": 2,
   "metadata": {},
   "outputs": [],
   "source": [
    "import numpy as np\n",
    "import pandas as pd\n",
    "import tensorflow as tf\n",
    "from tensorflow import keras\n",
    "import matplotlib.pyplot as plt\n",
    "from sklearn.utils.class_weight import compute_class_weight\n",
    "from sklearn.metrics import f1_score\n",
    "from keras.wrappers.scikit_learn import KerasClassifier\n",
    "from sklearn.model_selection import GridSearchCV\n",
    "from sklearn.model_selection import RandomizedSearchCV\n",
    "from sklearn.metrics import make_scorer\n",
    "from tensorflow.keras.layers.experimental import preprocessing"
   ]
  },
  {
   "cell_type": "code",
   "execution_count": 3,
   "metadata": {},
   "outputs": [],
   "source": [
    "# Dic to get the respective target values of the numbers.\n",
    "target_dic = {\n",
    "    0: '(0, 20]constant',\n",
    "    1: '(20, 40]constant',\n",
    "    2: '(40, 60]constant',\n",
    "    3: '(60, 80]constant',\n",
    "    4: '(80, 100]constant',\n",
    "    5: '(0, 20]intermittent',\n",
    "    6: '(20, 40]intermittent',\n",
    "    7: '(40, 60]intermittent',\n",
    "    8: '(60, 80]intermittent',\n",
    "    9: '(80, 100]intermittent',\n",
    "}"
   ]
  },
  {
   "cell_type": "code",
   "execution_count": 4,
   "metadata": {},
   "outputs": [
    {
     "name": "stdout",
     "output_type": "stream",
     "text": [
      "Note: you may need to restart the kernel to use updated packages.\n"
     ]
    }
   ],
   "source": [
    "pip install -q -U keras-tuner"
   ]
  },
  {
   "cell_type": "code",
   "execution_count": 5,
   "metadata": {},
   "outputs": [
    {
     "name": "stdout",
     "output_type": "stream",
     "text": [
      "Requirement already satisfied: tensorflow-addons in c:\\programdata\\anaconda3\\lib\\site-packages (0.13.0)\n",
      "Requirement already satisfied: typeguard>=2.7 in c:\\programdata\\anaconda3\\lib\\site-packages (from tensorflow-addons) (2.12.1)\n",
      "Note: you may need to restart the kernel to use updated packages.\n"
     ]
    }
   ],
   "source": [
    "pip install tensorflow-addons"
   ]
  },
  {
   "cell_type": "code",
   "execution_count": 6,
   "metadata": {},
   "outputs": [],
   "source": [
    "import keras_tuner as kt\n",
    "from keras_tuner import BayesianOptimization\n",
    "from keras_tuner import HyperModel as HM\n",
    "import tensorflow_addons as tfa\n"
   ]
  },
  {
   "cell_type": "code",
   "execution_count": 7,
   "metadata": {},
   "outputs": [],
   "source": [
    "#read in csv file into dataframe\n",
    "df_train = pd.read_csv(root + 'data/02_processed/completed_train.csv', sep=';')\n",
    "df_train.pop('Unnamed: 0')\n",
    "\n",
    "#df_train.set_index('user_id',inplace=True)\n",
    "df_validation = pd.read_csv(root + 'data/02_processed/completed_validation.csv', sep=';')\n",
    "df_validation.set_index('user_id',inplace=True)\n",
    "df_test = pd.read_csv(root + 'data/02_processed/completed_test.csv', sep=';')\n",
    "df_test.set_index('user_id',inplace=True)\n",
    "target_testO = df_test['target']\n",
    "target_test=pd.get_dummies(df_test['target'], prefix='target')\n",
    "\n",
    "iterator=df_train.copy()\n",
    "iterator.pop('target')\n",
    "\n",
    "#Function to transform dataframe into tf.dataset\n",
    "def df_to_ds(dataframe, shuffle,batch_size):\n",
    "  dataframe = dataframe.copy()\n",
    "  target= pd.get_dummies(dataframe['target'], prefix='target')\n",
    "    \n",
    "  dataframe.pop('target')\n",
    "  dataset = tf.data.Dataset.from_tensor_slices((dict(dataframe), target.values))\n",
    "  if shuffle:\n",
    "    dataset = dataset.shuffle(buffer_size=len(dataframe))\n",
    "  dataset = dataset.batch(batch_size)\n",
    "  return dataset\n",
    "\n",
    "#Transform into tf dataset with batchsize.\n",
    "batch_size = 16\n",
    "train_ds = df_to_ds(df_train,shuffle=True, batch_size=batch_size)\n",
    "val_ds = df_to_ds(df_validation, shuffle=False, batch_size=batch_size)\n",
    "test_ds = df_to_ds(df_test, shuffle=False, batch_size=batch_size)"
   ]
  },
  {
   "cell_type": "code",
   "execution_count": 8,
   "metadata": {},
   "outputs": [],
   "source": [
    "class NNHyperModel(HM):\n",
    "\n",
    "\n",
    "    def build(self,hp):\n",
    "     raw_inputs = {}\n",
    "\n",
    "#Get the categorical and numerical column names\n",
    "     categorical_columns=[]\n",
    "     numerical_columns=[]\n",
    "     for name, values in iterator.iteritems():\n",
    "         if values.dtype==np.float64:\n",
    "             numerical_columns.append(name)\n",
    "         if values.dtype==object:\n",
    "             categorical_columns.append(name)\n",
    "        \n",
    "     #creating the inputs for the neural network        \n",
    "     for column_name in categorical_columns:\n",
    "         raw_inputs[column_name] = tf.keras.Input(shape=(1,), name=column_name, dtype=tf.string)\n",
    "\n",
    "     for column_name in numerical_columns:\n",
    "         raw_inputs[column_name] = tf.keras.Input(shape=(1,), name=column_name, dtype=tf.float32)\n",
    "\n",
    "     inputs=[]\n",
    "     for name, input in raw_inputs.items():\n",
    "         if input.dtype == tf.string:\n",
    "          continue\n",
    "        \n",
    "          inputs.append(input)\n",
    "            \n",
    "\n",
    "     for name, input in raw_inputs.items():\n",
    "         if input.dtype == tf.float32:\n",
    "          continue\n",
    "    \n",
    "         lookup = preprocessing.StringLookup(vocabulary=np.unique(iterator[name]))\n",
    "         x = lookup(input)\n",
    "         inputs.append(x)\n",
    "         print(inputs)\n",
    "    \n",
    "#model architecture\n",
    "     HP_DROPOUT = hp.Float('dropout', 0, 0.9, step=0.1)\n",
    "     HP_ACTIVATION = hp.Choice('activation',['elu', 'exponential', 'gelu', 'relu','selu'])\n",
    "     HP_NEURONS=hp.Int('units', min_value = 128, max_value = 256, step = 16)\n",
    "     HP_KERNELINITIALIZER = hp.Choice('kernel_initializer',['lecun_uniform','glorot_normal', 'glorot_uniform', 'he_normal','lecun_normal','' 'he_uniform','random_normal'])\n",
    "     HP_LEARNINGRATE= hp.Choice('learning_rate', values = [1e-2,1e-3,1e-4,1e-5,1e-6])\n",
    "     HP_l1_l2 = hp.Choice('learning_rate', values = [1e-2,1e-3,1e-4,1e-5,1e-6])\n",
    "\n",
    "     inputs_cat = keras.layers.Concatenate(axis=1)(inputs)\n",
    "     hidden1 = keras.layers.Dense(units=HP_NEURONS, activation=HP_ACTIVATION,kernel_regularizer=keras.regularizers.l1_l2(l1=1e-5, l2=1e-4),kernel_initializer=HP_KERNELINITIALIZER)(inputs_cat)\n",
    "     hidden2 = keras.layers.Dropout(rate=HP_DROPOUT)(hidden1)\n",
    "     hidden3 = keras.layers.Dense(units=HP_NEURONS, activation=HP_ACTIVATION,kernel_regularizer=keras.regularizers.l1_l2(l1=1e-5, l2=1e-4),kernel_initializer=HP_KERNELINITIALIZER)(hidden2)\n",
    "     output = keras.layers.Dense(10,activation=\"softmax\")(hidden3)\n",
    "     model= keras.Model(inputs=raw_inputs,outputs=output)\n",
    "\n",
    "#compile model\n",
    "     metric= tfa.metrics.F1Score(average='macro',num_classes=10)\n",
    "     loss=\"categorical_crossentropy\"\n",
    "     optimizer=tf.optimizers.Adam(learning_rate=HP_LEARNINGRATE)\n",
    "     model.compile(loss =loss,\n",
    "                              optimizer = optimizer,\n",
    "                               metrics=metric)\n",
    "    \n",
    "     return model\n",
    "\n",
    "hm = NNHyperModel()\n",
    "\n"
   ]
  },
  {
   "cell_type": "code",
   "execution_count": 9,
   "metadata": {
    "scrolled": false
   },
   "outputs": [
    {
     "name": "stdout",
     "output_type": "stream",
     "text": [
      "INFO:tensorflow:Reloading Oracle from existing project .\\untitled_project\\oracle.json\n",
      "[<KerasTensor: shape=(None, 1) dtype=int64 (created by layer 'string_lookup')>]\n",
      "[<KerasTensor: shape=(None, 1) dtype=int64 (created by layer 'string_lookup')>, <KerasTensor: shape=(None, 1) dtype=int64 (created by layer 'string_lookup_1')>]\n",
      "[<KerasTensor: shape=(None, 1) dtype=int64 (created by layer 'string_lookup')>, <KerasTensor: shape=(None, 1) dtype=int64 (created by layer 'string_lookup_1')>, <KerasTensor: shape=(None, 1) dtype=int64 (created by layer 'string_lookup_2')>]\n",
      "[<KerasTensor: shape=(None, 1) dtype=int64 (created by layer 'string_lookup')>, <KerasTensor: shape=(None, 1) dtype=int64 (created by layer 'string_lookup_1')>, <KerasTensor: shape=(None, 1) dtype=int64 (created by layer 'string_lookup_2')>, <KerasTensor: shape=(None, 1) dtype=int64 (created by layer 'string_lookup_3')>]\n",
      "[<KerasTensor: shape=(None, 1) dtype=int64 (created by layer 'string_lookup')>, <KerasTensor: shape=(None, 1) dtype=int64 (created by layer 'string_lookup_1')>, <KerasTensor: shape=(None, 1) dtype=int64 (created by layer 'string_lookup_2')>, <KerasTensor: shape=(None, 1) dtype=int64 (created by layer 'string_lookup_3')>, <KerasTensor: shape=(None, 1) dtype=int64 (created by layer 'string_lookup_4')>]\n",
      "[<KerasTensor: shape=(None, 1) dtype=int64 (created by layer 'string_lookup')>, <KerasTensor: shape=(None, 1) dtype=int64 (created by layer 'string_lookup_1')>, <KerasTensor: shape=(None, 1) dtype=int64 (created by layer 'string_lookup_2')>, <KerasTensor: shape=(None, 1) dtype=int64 (created by layer 'string_lookup_3')>, <KerasTensor: shape=(None, 1) dtype=int64 (created by layer 'string_lookup_4')>, <KerasTensor: shape=(None, 1) dtype=int64 (created by layer 'string_lookup_5')>]\n",
      "[<KerasTensor: shape=(None, 1) dtype=int64 (created by layer 'string_lookup')>, <KerasTensor: shape=(None, 1) dtype=int64 (created by layer 'string_lookup_1')>, <KerasTensor: shape=(None, 1) dtype=int64 (created by layer 'string_lookup_2')>, <KerasTensor: shape=(None, 1) dtype=int64 (created by layer 'string_lookup_3')>, <KerasTensor: shape=(None, 1) dtype=int64 (created by layer 'string_lookup_4')>, <KerasTensor: shape=(None, 1) dtype=int64 (created by layer 'string_lookup_5')>, <KerasTensor: shape=(None, 1) dtype=int64 (created by layer 'string_lookup_6')>]\n",
      "[<KerasTensor: shape=(None, 1) dtype=int64 (created by layer 'string_lookup')>, <KerasTensor: shape=(None, 1) dtype=int64 (created by layer 'string_lookup_1')>, <KerasTensor: shape=(None, 1) dtype=int64 (created by layer 'string_lookup_2')>, <KerasTensor: shape=(None, 1) dtype=int64 (created by layer 'string_lookup_3')>, <KerasTensor: shape=(None, 1) dtype=int64 (created by layer 'string_lookup_4')>, <KerasTensor: shape=(None, 1) dtype=int64 (created by layer 'string_lookup_5')>, <KerasTensor: shape=(None, 1) dtype=int64 (created by layer 'string_lookup_6')>, <KerasTensor: shape=(None, 1) dtype=int64 (created by layer 'string_lookup_7')>]\n",
      "[<KerasTensor: shape=(None, 1) dtype=int64 (created by layer 'string_lookup')>, <KerasTensor: shape=(None, 1) dtype=int64 (created by layer 'string_lookup_1')>, <KerasTensor: shape=(None, 1) dtype=int64 (created by layer 'string_lookup_2')>, <KerasTensor: shape=(None, 1) dtype=int64 (created by layer 'string_lookup_3')>, <KerasTensor: shape=(None, 1) dtype=int64 (created by layer 'string_lookup_4')>, <KerasTensor: shape=(None, 1) dtype=int64 (created by layer 'string_lookup_5')>, <KerasTensor: shape=(None, 1) dtype=int64 (created by layer 'string_lookup_6')>, <KerasTensor: shape=(None, 1) dtype=int64 (created by layer 'string_lookup_7')>, <KerasTensor: shape=(None, 1) dtype=int64 (created by layer 'string_lookup_8')>]\n",
      "[<KerasTensor: shape=(None, 1) dtype=int64 (created by layer 'string_lookup')>, <KerasTensor: shape=(None, 1) dtype=int64 (created by layer 'string_lookup_1')>, <KerasTensor: shape=(None, 1) dtype=int64 (created by layer 'string_lookup_2')>, <KerasTensor: shape=(None, 1) dtype=int64 (created by layer 'string_lookup_3')>, <KerasTensor: shape=(None, 1) dtype=int64 (created by layer 'string_lookup_4')>, <KerasTensor: shape=(None, 1) dtype=int64 (created by layer 'string_lookup_5')>, <KerasTensor: shape=(None, 1) dtype=int64 (created by layer 'string_lookup_6')>, <KerasTensor: shape=(None, 1) dtype=int64 (created by layer 'string_lookup_7')>, <KerasTensor: shape=(None, 1) dtype=int64 (created by layer 'string_lookup_8')>, <KerasTensor: shape=(None, 1) dtype=int64 (created by layer 'string_lookup_9')>]\n",
      "[<KerasTensor: shape=(None, 1) dtype=int64 (created by layer 'string_lookup')>, <KerasTensor: shape=(None, 1) dtype=int64 (created by layer 'string_lookup_1')>, <KerasTensor: shape=(None, 1) dtype=int64 (created by layer 'string_lookup_2')>, <KerasTensor: shape=(None, 1) dtype=int64 (created by layer 'string_lookup_3')>, <KerasTensor: shape=(None, 1) dtype=int64 (created by layer 'string_lookup_4')>, <KerasTensor: shape=(None, 1) dtype=int64 (created by layer 'string_lookup_5')>, <KerasTensor: shape=(None, 1) dtype=int64 (created by layer 'string_lookup_6')>, <KerasTensor: shape=(None, 1) dtype=int64 (created by layer 'string_lookup_7')>, <KerasTensor: shape=(None, 1) dtype=int64 (created by layer 'string_lookup_8')>, <KerasTensor: shape=(None, 1) dtype=int64 (created by layer 'string_lookup_9')>, <KerasTensor: shape=(None, 1) dtype=int64 (created by layer 'string_lookup_10')>]\n",
      "[<KerasTensor: shape=(None, 1) dtype=int64 (created by layer 'string_lookup')>, <KerasTensor: shape=(None, 1) dtype=int64 (created by layer 'string_lookup_1')>, <KerasTensor: shape=(None, 1) dtype=int64 (created by layer 'string_lookup_2')>, <KerasTensor: shape=(None, 1) dtype=int64 (created by layer 'string_lookup_3')>, <KerasTensor: shape=(None, 1) dtype=int64 (created by layer 'string_lookup_4')>, <KerasTensor: shape=(None, 1) dtype=int64 (created by layer 'string_lookup_5')>, <KerasTensor: shape=(None, 1) dtype=int64 (created by layer 'string_lookup_6')>, <KerasTensor: shape=(None, 1) dtype=int64 (created by layer 'string_lookup_7')>, <KerasTensor: shape=(None, 1) dtype=int64 (created by layer 'string_lookup_8')>, <KerasTensor: shape=(None, 1) dtype=int64 (created by layer 'string_lookup_9')>, <KerasTensor: shape=(None, 1) dtype=int64 (created by layer 'string_lookup_10')>, <KerasTensor: shape=(None, 1) dtype=int64 (created by layer 'string_lookup_11')>]\n",
      "[<KerasTensor: shape=(None, 1) dtype=int64 (created by layer 'string_lookup')>, <KerasTensor: shape=(None, 1) dtype=int64 (created by layer 'string_lookup_1')>, <KerasTensor: shape=(None, 1) dtype=int64 (created by layer 'string_lookup_2')>, <KerasTensor: shape=(None, 1) dtype=int64 (created by layer 'string_lookup_3')>, <KerasTensor: shape=(None, 1) dtype=int64 (created by layer 'string_lookup_4')>, <KerasTensor: shape=(None, 1) dtype=int64 (created by layer 'string_lookup_5')>, <KerasTensor: shape=(None, 1) dtype=int64 (created by layer 'string_lookup_6')>, <KerasTensor: shape=(None, 1) dtype=int64 (created by layer 'string_lookup_7')>, <KerasTensor: shape=(None, 1) dtype=int64 (created by layer 'string_lookup_8')>, <KerasTensor: shape=(None, 1) dtype=int64 (created by layer 'string_lookup_9')>, <KerasTensor: shape=(None, 1) dtype=int64 (created by layer 'string_lookup_10')>, <KerasTensor: shape=(None, 1) dtype=int64 (created by layer 'string_lookup_11')>, <KerasTensor: shape=(None, 1) dtype=int64 (created by layer 'string_lookup_12')>]\n",
      "[<KerasTensor: shape=(None, 1) dtype=int64 (created by layer 'string_lookup')>, <KerasTensor: shape=(None, 1) dtype=int64 (created by layer 'string_lookup_1')>, <KerasTensor: shape=(None, 1) dtype=int64 (created by layer 'string_lookup_2')>, <KerasTensor: shape=(None, 1) dtype=int64 (created by layer 'string_lookup_3')>, <KerasTensor: shape=(None, 1) dtype=int64 (created by layer 'string_lookup_4')>, <KerasTensor: shape=(None, 1) dtype=int64 (created by layer 'string_lookup_5')>, <KerasTensor: shape=(None, 1) dtype=int64 (created by layer 'string_lookup_6')>, <KerasTensor: shape=(None, 1) dtype=int64 (created by layer 'string_lookup_7')>, <KerasTensor: shape=(None, 1) dtype=int64 (created by layer 'string_lookup_8')>, <KerasTensor: shape=(None, 1) dtype=int64 (created by layer 'string_lookup_9')>, <KerasTensor: shape=(None, 1) dtype=int64 (created by layer 'string_lookup_10')>, <KerasTensor: shape=(None, 1) dtype=int64 (created by layer 'string_lookup_11')>, <KerasTensor: shape=(None, 1) dtype=int64 (created by layer 'string_lookup_12')>, <KerasTensor: shape=(None, 1) dtype=int64 (created by layer 'string_lookup_13')>]\n",
      "[<KerasTensor: shape=(None, 1) dtype=int64 (created by layer 'string_lookup')>, <KerasTensor: shape=(None, 1) dtype=int64 (created by layer 'string_lookup_1')>, <KerasTensor: shape=(None, 1) dtype=int64 (created by layer 'string_lookup_2')>, <KerasTensor: shape=(None, 1) dtype=int64 (created by layer 'string_lookup_3')>, <KerasTensor: shape=(None, 1) dtype=int64 (created by layer 'string_lookup_4')>, <KerasTensor: shape=(None, 1) dtype=int64 (created by layer 'string_lookup_5')>, <KerasTensor: shape=(None, 1) dtype=int64 (created by layer 'string_lookup_6')>, <KerasTensor: shape=(None, 1) dtype=int64 (created by layer 'string_lookup_7')>, <KerasTensor: shape=(None, 1) dtype=int64 (created by layer 'string_lookup_8')>, <KerasTensor: shape=(None, 1) dtype=int64 (created by layer 'string_lookup_9')>, <KerasTensor: shape=(None, 1) dtype=int64 (created by layer 'string_lookup_10')>, <KerasTensor: shape=(None, 1) dtype=int64 (created by layer 'string_lookup_11')>, <KerasTensor: shape=(None, 1) dtype=int64 (created by layer 'string_lookup_12')>, <KerasTensor: shape=(None, 1) dtype=int64 (created by layer 'string_lookup_13')>, <KerasTensor: shape=(None, 1) dtype=int64 (created by layer 'string_lookup_14')>]\n",
      "[<KerasTensor: shape=(None, 1) dtype=int64 (created by layer 'string_lookup')>, <KerasTensor: shape=(None, 1) dtype=int64 (created by layer 'string_lookup_1')>, <KerasTensor: shape=(None, 1) dtype=int64 (created by layer 'string_lookup_2')>, <KerasTensor: shape=(None, 1) dtype=int64 (created by layer 'string_lookup_3')>, <KerasTensor: shape=(None, 1) dtype=int64 (created by layer 'string_lookup_4')>, <KerasTensor: shape=(None, 1) dtype=int64 (created by layer 'string_lookup_5')>, <KerasTensor: shape=(None, 1) dtype=int64 (created by layer 'string_lookup_6')>, <KerasTensor: shape=(None, 1) dtype=int64 (created by layer 'string_lookup_7')>, <KerasTensor: shape=(None, 1) dtype=int64 (created by layer 'string_lookup_8')>, <KerasTensor: shape=(None, 1) dtype=int64 (created by layer 'string_lookup_9')>, <KerasTensor: shape=(None, 1) dtype=int64 (created by layer 'string_lookup_10')>, <KerasTensor: shape=(None, 1) dtype=int64 (created by layer 'string_lookup_11')>, <KerasTensor: shape=(None, 1) dtype=int64 (created by layer 'string_lookup_12')>, <KerasTensor: shape=(None, 1) dtype=int64 (created by layer 'string_lookup_13')>, <KerasTensor: shape=(None, 1) dtype=int64 (created by layer 'string_lookup_14')>, <KerasTensor: shape=(None, 1) dtype=int64 (created by layer 'string_lookup_15')>]\n",
      "[<KerasTensor: shape=(None, 1) dtype=int64 (created by layer 'string_lookup')>, <KerasTensor: shape=(None, 1) dtype=int64 (created by layer 'string_lookup_1')>, <KerasTensor: shape=(None, 1) dtype=int64 (created by layer 'string_lookup_2')>, <KerasTensor: shape=(None, 1) dtype=int64 (created by layer 'string_lookup_3')>, <KerasTensor: shape=(None, 1) dtype=int64 (created by layer 'string_lookup_4')>, <KerasTensor: shape=(None, 1) dtype=int64 (created by layer 'string_lookup_5')>, <KerasTensor: shape=(None, 1) dtype=int64 (created by layer 'string_lookup_6')>, <KerasTensor: shape=(None, 1) dtype=int64 (created by layer 'string_lookup_7')>, <KerasTensor: shape=(None, 1) dtype=int64 (created by layer 'string_lookup_8')>, <KerasTensor: shape=(None, 1) dtype=int64 (created by layer 'string_lookup_9')>, <KerasTensor: shape=(None, 1) dtype=int64 (created by layer 'string_lookup_10')>, <KerasTensor: shape=(None, 1) dtype=int64 (created by layer 'string_lookup_11')>, <KerasTensor: shape=(None, 1) dtype=int64 (created by layer 'string_lookup_12')>, <KerasTensor: shape=(None, 1) dtype=int64 (created by layer 'string_lookup_13')>, <KerasTensor: shape=(None, 1) dtype=int64 (created by layer 'string_lookup_14')>, <KerasTensor: shape=(None, 1) dtype=int64 (created by layer 'string_lookup_15')>, <KerasTensor: shape=(None, 1) dtype=int64 (created by layer 'string_lookup_16')>]\n"
     ]
    },
    {
     "name": "stdout",
     "output_type": "stream",
     "text": [
      "INFO:tensorflow:Reloading Tuner from .\\untitled_project\\tuner0.json\n"
     ]
    }
   ],
   "source": [
    "#instantiate Tuner which works with Bayesian Optimization.\n",
    "tuner = kt.BayesianOptimization(hm,\n",
    "                     objective=kt.Objective(\"val_f1_score\", direction=\"max\"),\n",
    "                     max_trials=100\n",
    "                     )"
   ]
  },
  {
   "cell_type": "code",
   "execution_count": 10,
   "metadata": {},
   "outputs": [
    {
     "name": "stdout",
     "output_type": "stream",
     "text": [
      "INFO:tensorflow:Oracle triggered exit\n"
     ]
    }
   ],
   "source": [
    "#stop_early has the function to stop training when val_loss  has stopped improving.\n",
    "stop_early = tf.keras.callbacks.EarlyStopping(monitor='val_loss', patience=10)\n",
    "\n",
    "#start tuner\n",
    "tuner.search(train_ds,epochs=1000,validation_data=val_ds,callbacks=[stop_early])"
   ]
  },
  {
   "cell_type": "code",
   "execution_count": 11,
   "metadata": {},
   "outputs": [
    {
     "name": "stdout",
     "output_type": "stream",
     "text": [
      "{'dropout': 0.0, 'activation': 'elu', 'units': 256, 'kernel_initializer': 'lecun_uniform', 'learning_rate': 0.001}\n"
     ]
    }
   ],
   "source": [
    "#get the hyperparamters which performed best on given f1-score.  \n",
    "best = tuner.get_best_hyperparameters(1)[0]\n",
    "print(best.values)"
   ]
  },
  {
   "cell_type": "code",
   "execution_count": 12,
   "metadata": {},
   "outputs": [
    {
     "name": "stdout",
     "output_type": "stream",
     "text": [
      "Results summary\n",
      "Results in .\\untitled_project\n",
      "Showing 10 best trials\n",
      "Objective(name='val_f1_score', direction='max')\n",
      "Trial summary\n",
      "Hyperparameters:\n",
      "dropout: 0.0\n",
      "activation: elu\n",
      "units: 256\n",
      "kernel_initializer: lecun_uniform\n",
      "learning_rate: 0.001\n",
      "Score: 0.1640509068965912\n",
      "Trial summary\n",
      "Hyperparameters:\n",
      "dropout: 0.0\n",
      "activation: elu\n",
      "units: 256\n",
      "kernel_initializer: lecun_uniform\n",
      "learning_rate: 0.001\n",
      "Score: 0.16240939497947693\n",
      "Trial summary\n",
      "Hyperparameters:\n",
      "dropout: 0.0\n",
      "activation: elu\n",
      "units: 256\n",
      "kernel_initializer: lecun_uniform\n",
      "learning_rate: 0.001\n",
      "Score: 0.16231542825698853\n",
      "Trial summary\n",
      "Hyperparameters:\n",
      "dropout: 0.9\n",
      "activation: selu\n",
      "units: 256\n",
      "kernel_initializer: lecun_uniform\n",
      "learning_rate: 0.0001\n",
      "Score: 0.16175256669521332\n",
      "Trial summary\n",
      "Hyperparameters:\n",
      "dropout: 0.0\n",
      "activation: elu\n",
      "units: 464\n",
      "kernel_initializer: lecun_uniform\n",
      "learning_rate: 0.001\n",
      "Score: 0.16072458028793335\n",
      "Trial summary\n",
      "Hyperparameters:\n",
      "dropout: 0.0\n",
      "activation: elu\n",
      "units: 256\n",
      "kernel_initializer: lecun_uniform\n",
      "learning_rate: 0.001\n",
      "Score: 0.16027984023094177\n",
      "Trial summary\n",
      "Hyperparameters:\n",
      "dropout: 0.0\n",
      "activation: elu\n",
      "units: 256\n",
      "kernel_initializer: lecun_uniform\n",
      "learning_rate: 0.001\n",
      "Score: 0.15775014460086823\n",
      "Trial summary\n",
      "Hyperparameters:\n",
      "dropout: 0.0\n",
      "activation: elu\n",
      "units: 464\n",
      "kernel_initializer: he_uniform\n",
      "learning_rate: 0.001\n",
      "Score: 0.1567043662071228\n",
      "Trial summary\n",
      "Hyperparameters:\n",
      "dropout: 0.0\n",
      "activation: elu\n",
      "units: 256\n",
      "kernel_initializer: lecun_uniform\n",
      "learning_rate: 0.001\n",
      "Score: 0.1564880609512329\n",
      "Trial summary\n",
      "Hyperparameters:\n",
      "dropout: 0.0\n",
      "activation: selu\n",
      "units: 256\n",
      "kernel_initializer: random_normal\n",
      "learning_rate: 1e-06\n",
      "Score: 0.1562536358833313\n"
     ]
    }
   ],
   "source": [
    "tuner.results_summary()"
   ]
  },
  {
   "cell_type": "code",
   "execution_count": null,
   "metadata": {},
   "outputs": [],
   "source": []
  }
 ],
 "metadata": {
  "kernelspec": {
   "display_name": "Python 3",
   "language": "python",
   "name": "python3"
  },
  "language_info": {
   "codemirror_mode": {
    "name": "ipython",
    "version": 3
   },
   "file_extension": ".py",
   "mimetype": "text/x-python",
   "name": "python",
   "nbconvert_exporter": "python",
   "pygments_lexer": "ipython3",
   "version": "3.8.5"
  }
 },
 "nbformat": 4,
 "nbformat_minor": 4
}
