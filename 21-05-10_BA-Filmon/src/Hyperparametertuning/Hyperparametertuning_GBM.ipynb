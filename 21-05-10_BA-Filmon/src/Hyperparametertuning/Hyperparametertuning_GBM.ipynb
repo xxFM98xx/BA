{
 "cells": [
  {
   "cell_type": "code",
   "execution_count": 7,
   "metadata": {},
   "outputs": [],
   "source": [
    "#Here you must specify your own path\n",
    "root = ''"
   ]
  },
  {
   "cell_type": "code",
   "execution_count": 8,
   "metadata": {},
   "outputs": [],
   "source": [
    "import numpy as np\n",
    "import pandas as pd\n",
    "from sklearn.model_selection import GridSearchCV\n",
    "from sklearn.metrics import confusion_matrix\n",
    "from sklearn.metrics import f1_score\n",
    "from sklearn.metrics import make_scorer\n",
    "from sklearn.ensemble import GradientBoostingClassifier\n",
    "from sklearn.pipeline import Pipeline\n",
    "from sklearn.compose import ColumnTransformer\n",
    "from sklearn.preprocessing import OrdinalEncoder"
   ]
  },
  {
   "cell_type": "code",
   "execution_count": 9,
   "metadata": {},
   "outputs": [],
   "source": [
    "# Dic to get the respective target values of the numbers.\n",
    "target_dic = {\n",
    "    0: '(0, 20]constant',\n",
    "    1: '(20, 40]constant',\n",
    "    2: '(40, 60]constant',\n",
    "    3: '(60, 80]constant',\n",
    "    4: '(80, 100]constant',\n",
    "    5: '(0, 20]intermittent',\n",
    "    6: '(20, 40]intermittent',\n",
    "    7: '(40, 60]intermittent',\n",
    "    8: '(60, 80]intermittent',\n",
    "    9: '(80, 100]intermittent',\n",
    "}"
   ]
  },
  {
   "cell_type": "code",
   "execution_count": 10,
   "metadata": {},
   "outputs": [],
   "source": [
    "#read in csv file into dataframe\n",
    "df_train = pd.read_csv(root + 'data/02_processed/train.csv', sep=';')\n",
    "df_train.pop('Unnamed: 0')\n",
    "\n",
    "df2=df_train.copy()\n",
    "df2.drop(['target','4','66'], axis = 1,inplace=True)\n",
    "\n",
    "\n",
    "#read validation and test data from csv\n",
    "df_validation = pd.read_csv(root + 'data/02_processed/validation.csv', sep=';')\n",
    "df_validation.set_index('user_id',inplace=True)\n",
    "df_test = pd.read_csv(root + 'data/02_processed/test.csv', sep=';')\n",
    "df_test.set_index('user_id',inplace=True)\n",
    "\n",
    "#encode target column of test data\n",
    "target_test=pd.get_dummies(df_test['target'], prefix='target')\n",
    "\n",
    "# target of train data without encoding\n",
    "target_train= df_train['target']\n",
    "\n",
    "#delete target from training data\n",
    "df_train.pop('target')\n",
    "\n",
    "# target of train data without encoding\n",
    "target_test= df_test['target']\n",
    "\n",
    "#delete target from training data\n",
    "df_test.pop('target')\n",
    "\n",
    "train=df_train.copy()\n",
    "test= df_test.copy()"
   ]
  },
  {
   "cell_type": "code",
   "execution_count": 11,
   "metadata": {},
   "outputs": [
    {
     "data": {
      "text/plain": [
       "['66', '67', '4']"
      ]
     },
     "execution_count": 11,
     "metadata": {},
     "output_type": "execute_result"
    }
   ],
   "source": [
    "#Get the categorical and numerical column names\n",
    "categorical_columns=[]\n",
    "numerical_columns=[]\n",
    "for name, values in train.iteritems():\n",
    "    if values.dtype==np.float64:\n",
    "        numerical_columns.append(name)\n",
    "    if values.dtype==object:\n",
    "        categorical_columns.append(name)\n",
    "\n",
    "numerical_columns  "
   ]
  },
  {
   "cell_type": "code",
   "execution_count": 12,
   "metadata": {},
   "outputs": [
    {
     "name": "stdout",
     "output_type": "stream",
     "text": [
      "Fitting 5 folds for each of 128 candidates, totalling 640 fits\n"
     ]
    },
    {
     "name": "stderr",
     "output_type": "stream",
     "text": [
      "[Parallel(n_jobs=4)]: Using backend LokyBackend with 4 concurrent workers.\n",
      "[Parallel(n_jobs=4)]: Done  24 tasks      | elapsed:   51.6s\n",
      "[Parallel(n_jobs=4)]: Done 120 tasks      | elapsed:  4.3min\n",
      "[Parallel(n_jobs=4)]: Done 280 tasks      | elapsed: 10.9min\n",
      "[Parallel(n_jobs=4)]: Done 504 tasks      | elapsed: 23.5min\n",
      "[Parallel(n_jobs=4)]: Done 640 out of 640 | elapsed: 28.5min finished\n"
     ]
    },
    {
     "data": {
      "text/plain": [
       "{'learning_rate': 0.2,\n",
       " 'max_depth': 6,\n",
       " 'max_features': 'sqrt',\n",
       " 'max_leaf_nodes': 8,\n",
       " 'min_samples_leaf': 8,\n",
       " 'min_samples_split': 20,\n",
       " 'n_estimators': 200,\n",
       " 'subsample': 1}"
      ]
     },
     "execution_count": 12,
     "metadata": {},
     "output_type": "execute_result"
    }
   ],
   "source": [
    "#Encoder to encode categorical variables into integer\n",
    "categorical_encoder = OrdinalEncoder()\n",
    "\n",
    "#ColumnTransformer encodes categorical data with the categorical_encoder.\n",
    "#and numeric columns are not edited.\n",
    "preprocessing = ColumnTransformer(\n",
    "    [('cat', categorical_encoder, categorical_columns),\n",
    "     ('num', 'passthrough', numerical_columns)])\n",
    "\n",
    "\n",
    "scorer = make_scorer(f1_score,average='macro')\n",
    "\n",
    "#Classifier\n",
    "GBM = GradientBoostingClassifier(random_state=0)\n",
    "\n",
    "#This grid contains values which are tested by the Randomized search \n",
    "#to get the best Combinations of them, measured with the  f1-score\n",
    "\n",
    "param_grid = [\n",
    "    {'learning_rate': [0.15,0.2],\n",
    "     'n_estimators':[100,200],\n",
    "     'min_samples_split':[10,20], \n",
    "     'min_samples_leaf':[6,8], \n",
    "     'max_depth':[4,6], \n",
    "     'max_features':['sqrt'], \n",
    "     'max_leaf_nodes':[6,8], \n",
    "     'subsample':[0.75,1], \n",
    "    }\n",
    "]\n",
    "\n",
    "#Created Pipeline to combine preprocessing of the data and the gridsearch.\n",
    "model = Pipeline([\n",
    "    ('preprocess', preprocessing),\n",
    "    ('gridsearch',GridSearchCV(gbm,param_grid,cv=5,scoring=scorer,n_jobs=4,verbose=3,return_train_score=True))\n",
    "])\n",
    "\n",
    "model.fit(train, target_train)\n",
    "model.named_steps['gridsearch'].best_params_"
   ]
  },
  {
   "cell_type": "code",
   "execution_count": null,
   "metadata": {},
   "outputs": [],
   "source": []
  }
 ],
 "metadata": {
  "kernelspec": {
   "display_name": "Python 3",
   "language": "python",
   "name": "python3"
  },
  "language_info": {
   "codemirror_mode": {
    "name": "ipython",
    "version": 3
   },
   "file_extension": ".py",
   "mimetype": "text/x-python",
   "name": "python",
   "nbconvert_exporter": "python",
   "pygments_lexer": "ipython3",
   "version": "3.8.5"
  }
 },
 "nbformat": 4,
 "nbformat_minor": 4
}
