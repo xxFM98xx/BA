{
 "cells": [
  {
   "cell_type": "code",
   "execution_count": 37,
   "metadata": {},
   "outputs": [],
   "source": [
    "#Here you must specify your own path\n",
    "root = ''"
   ]
  },
  {
   "cell_type": "code",
   "execution_count": 38,
   "metadata": {},
   "outputs": [],
   "source": [
    "import numpy as np\n",
    "import pandas as pd\n",
    "from sklearn.preprocessing import MinMaxScaler\n",
    "from imblearn.over_sampling import RandomOverSampler\n",
    "import sklearn.model_selection as model_selection\n",
    "from sklearn.dummy import DummyClassifier\n",
    "from sklearn.metrics import confusion_matrix\n",
    "from sklearn.metrics import ConfusionMatrixDisplay\n",
    "from sklearn.metrics import f1_score\n",
    "from sklearn.metrics import classification_report\n",
    "from sklearn.utils.class_weight import compute_class_weight"
   ]
  },
  {
   "cell_type": "code",
   "execution_count": 39,
   "metadata": {},
   "outputs": [],
   "source": [
    "# Dic to get the respective target values of the numbers.\n",
    "target_dic = {\n",
    "    0: '(0, 20]constant',\n",
    "    1: '(20, 40]constant',\n",
    "    2: '(40, 60]constant',\n",
    "    3: '(60, 80]constant',\n",
    "    4: '(80, 100]constant',\n",
    "    5: '(0, 20]intermittent',\n",
    "    6: '(20, 40]intermittent',\n",
    "    7: '(40, 60]intermittent',\n",
    "    8: '(60, 80]intermittent',\n",
    "    9: '(80, 100]intermittent',\n",
    "}"
   ]
  },
  {
   "cell_type": "code",
   "execution_count": 40,
   "metadata": {},
   "outputs": [
    {
     "name": "stdout",
     "output_type": "stream",
     "text": [
      "_train(1128, 30)\n",
      "validation_train(376, 30)\n",
      "target_train(1128,)\n",
      "validation_target(376,)\n"
     ]
    },
    {
     "name": "stderr",
     "output_type": "stream",
     "text": [
      "<ipython-input-40-19da065282d8>:29: SettingWithCopyWarning: \n",
      "A value is trying to be set on a copy of a slice from a DataFrame.\n",
      "Try using .loc[row_indexer,col_indexer] = value instead\n",
      "\n",
      "See the caveats in the documentation: https://pandas.pydata.org/pandas-docs/stable/user_guide/indexing.html#returning-a-view-versus-a-copy\n",
      "  _train[['66','67','4']] = scaler.fit_transform(_train[['66','67','4']])\n",
      "C:\\ProgramData\\Anaconda3\\lib\\site-packages\\pandas\\core\\indexing.py:1736: SettingWithCopyWarning: \n",
      "A value is trying to be set on a copy of a slice from a DataFrame.\n",
      "Try using .loc[row_indexer,col_indexer] = value instead\n",
      "\n",
      "See the caveats in the documentation: https://pandas.pydata.org/pandas-docs/stable/user_guide/indexing.html#returning-a-view-versus-a-copy\n",
      "  isetter(loc, value[:, i].tolist())\n",
      "<ipython-input-40-19da065282d8>:30: SettingWithCopyWarning: \n",
      "A value is trying to be set on a copy of a slice from a DataFrame.\n",
      "Try using .loc[row_indexer,col_indexer] = value instead\n",
      "\n",
      "See the caveats in the documentation: https://pandas.pydata.org/pandas-docs/stable/user_guide/indexing.html#returning-a-view-versus-a-copy\n",
      "  test[['66','67','4']]   = scaler.transform(test[['66','67','4']])\n",
      "C:\\ProgramData\\Anaconda3\\lib\\site-packages\\pandas\\core\\indexing.py:1736: SettingWithCopyWarning: \n",
      "A value is trying to be set on a copy of a slice from a DataFrame.\n",
      "Try using .loc[row_indexer,col_indexer] = value instead\n",
      "\n",
      "See the caveats in the documentation: https://pandas.pydata.org/pandas-docs/stable/user_guide/indexing.html#returning-a-view-versus-a-copy\n",
      "  isetter(loc, value[:, i].tolist())\n",
      "<ipython-input-40-19da065282d8>:31: SettingWithCopyWarning: \n",
      "A value is trying to be set on a copy of a slice from a DataFrame.\n",
      "Try using .loc[row_indexer,col_indexer] = value instead\n",
      "\n",
      "See the caveats in the documentation: https://pandas.pydata.org/pandas-docs/stable/user_guide/indexing.html#returning-a-view-versus-a-copy\n",
      "  validation_train[['66','67','4']] = scaler.transform(validation_train[['66','67','4']])\n",
      "C:\\ProgramData\\Anaconda3\\lib\\site-packages\\pandas\\core\\indexing.py:1736: SettingWithCopyWarning: \n",
      "A value is trying to be set on a copy of a slice from a DataFrame.\n",
      "Try using .loc[row_indexer,col_indexer] = value instead\n",
      "\n",
      "See the caveats in the documentation: https://pandas.pydata.org/pandas-docs/stable/user_guide/indexing.html#returning-a-view-versus-a-copy\n",
      "  isetter(loc, value[:, i].tolist())\n"
     ]
    }
   ],
   "source": [
    "df = pd.read_csv(root + 'data/02_processed/PreprocessedData.csv', sep=';')\n",
    "df.set_index('user_id',inplace=True)\n",
    "\n",
    "#split data into train and test data.\n",
    "train, test = model_selection.train_test_split(df,test_size=0.2,stratify=df['target'],random_state=0)\n",
    "\n",
    "#target of train data without encoding\n",
    "target_train= train['target']\n",
    "\n",
    "#delete target from training data\n",
    "train.pop('target')\n",
    "\n",
    "# target of train data without encoding\n",
    "target_test= test['target']\n",
    "\n",
    "#delete target from training data\n",
    "test.pop('target')\n",
    "\n",
    "#split train data into train and validation data\n",
    "_train, validation_train, target_train, validation_target =model_selection.train_test_split(train, target_train,\n",
    "                                                           test_size = .25,stratify=target_train,random_state=0)\n",
    "print('_train'+str(_train.shape))\n",
    "print('validation_train'+str(validation_train.shape))\n",
    "print('target_train'+str(target_train.shape))\n",
    "print('validation_target'+str(validation_target.shape))\n",
    "\n",
    "#Numerical features between 0 and 1 on all parts of the data set are scaled with the parameters of the training data.\n",
    "scaler = MinMaxScaler()\n",
    "_train[['66','67','4']] = scaler.fit_transform(_train[['66','67','4']])\n",
    "test[['66','67','4']]   = scaler.transform(test[['66','67','4']])\n",
    "validation_train[['66','67','4']] = scaler.transform(validation_train[['66','67','4']])\n",
    "\n",
    "#because the dataset is not balanced, \n",
    "#RandomOverSampler is applied. RandomOverSampler balances the dataset \n",
    "#by copying data points of underrepresented classes.\n",
    "#x_train is the new train data\n",
    "df2=df.copy()\n",
    "df2.drop(['target','4','66','67'], axis = 1,inplace=True)\n",
    "randomOverSampler  = RandomOverSampler(random_state=0)\n",
    "x_train,target_train = randomOverSampler.fit_resample(pd.DataFrame(_train), target_train.to_numpy())\n",
    "\n"
   ]
  },
  {
   "cell_type": "code",
   "execution_count": 41,
   "metadata": {},
   "outputs": [
    {
     "name": "stderr",
     "output_type": "stream",
     "text": [
      "<ipython-input-41-3d80d6fbc70b>:3: SettingWithCopyWarning: \n",
      "A value is trying to be set on a copy of a slice from a DataFrame.\n",
      "Try using .loc[row_indexer,col_indexer] = value instead\n",
      "\n",
      "See the caveats in the documentation: https://pandas.pydata.org/pandas-docs/stable/user_guide/indexing.html#returning-a-view-versus-a-copy\n",
      "  validation_train['target']=validation_target\n",
      "<ipython-input-41-3d80d6fbc70b>:5: SettingWithCopyWarning: \n",
      "A value is trying to be set on a copy of a slice from a DataFrame.\n",
      "Try using .loc[row_indexer,col_indexer] = value instead\n",
      "\n",
      "See the caveats in the documentation: https://pandas.pydata.org/pandas-docs/stable/user_guide/indexing.html#returning-a-view-versus-a-copy\n",
      "  test['target']= target_test\n"
     ]
    }
   ],
   "source": [
    "x_train['target'] = target_train\n",
    "\n",
    "validation_train['target']=validation_target\n",
    "\n",
    "test['target']= target_test"
   ]
  },
  {
   "cell_type": "code",
   "execution_count": 42,
   "metadata": {},
   "outputs": [],
   "source": [
    "#Train Test and Validation Data is written into different CSV.\n",
    "x_train.to_csv(root+\"data/02_processed/train.csv\",sep=';')\n",
    "test.to_csv(root+\"data/02_processed/test.csv\",sep=';')\n",
    "validation_train.to_csv(root+\"data/02_processed/validation.csv\",sep=';')"
   ]
  },
  {
   "cell_type": "markdown",
   "metadata": {},
   "source": [
    "# Dummy Classifier"
   ]
  },
  {
   "cell_type": "code",
   "execution_count": 43,
   "metadata": {},
   "outputs": [
    {
     "data": {
      "text/plain": [
       "DummyClassifier(random_state=0, strategy='uniform')"
      ]
     },
     "execution_count": 43,
     "metadata": {},
     "output_type": "execute_result"
    }
   ],
   "source": [
    "#A baseline classifier that makes random predictions. The other classifiers are measured against it.\n",
    "dc = DummyClassifier(strategy=\"uniform\",random_state=0)\n",
    "target =x_train.pop('target')\n",
    "target_test = test.pop('target')\n",
    "dc.fit(x_train,target)"
   ]
  },
  {
   "cell_type": "code",
   "execution_count": 44,
   "metadata": {},
   "outputs": [],
   "source": [
    "predictions = dc.predict(test)"
   ]
  },
  {
   "cell_type": "code",
   "execution_count": 45,
   "metadata": {},
   "outputs": [
    {
     "data": {
      "text/plain": [
       "0.11166099623326169"
      ]
     },
     "execution_count": 45,
     "metadata": {},
     "output_type": "execute_result"
    }
   ],
   "source": [
    "#Result of the baseline classifier measured with the f1-score.\n",
    "f1_score(target_test,predictions,average='macro')"
   ]
  },
  {
   "cell_type": "code",
   "execution_count": 46,
   "metadata": {},
   "outputs": [
    {
     "data": {
      "image/png": "[encoded data removed]",
      "text/plain": [
       "<Figure size 432x288 with 2 Axes>"
      ]
     },
     "metadata": {
      "needs_background": "light"
     },
     "output_type": "display_data"
    }
   ],
   "source": [
    "#A confusion matrix  of the predictions of the baseline classifier to see how it performs in detail.\n",
    "c = confusion_matrix(target_test,predictions)\n",
    "cm = ConfusionMatrixDisplay(c).plot()"
   ]
  },
  {
   "cell_type": "code",
   "execution_count": 47,
   "metadata": {},
   "outputs": [
    {
     "name": "stdout",
     "output_type": "stream",
     "text": [
      "                       precision    recall  f1-score   support\n",
      "\n",
      "      (0, 20]constant      0.342     0.123     0.181       106\n",
      "     (20, 40]constant      0.194     0.167     0.179        36\n",
      "     (40, 60]constant      0.111     0.074     0.089        54\n",
      "     (60, 80]constant      0.216     0.216     0.216        51\n",
      "    (80, 100]constant      0.081     0.100     0.090        30\n",
      "  (0, 20]intermittent      0.057     0.051     0.054        39\n",
      " (20, 40]intermittent      0.143     0.182     0.160        22\n",
      " (40, 60]intermittent      0.026     0.050     0.034        20\n",
      " (60, 80]intermittent      0.044     0.133     0.067        15\n",
      "(80, 100]intermittent      0.026     0.250     0.048         4\n",
      "\n",
      "             accuracy                          0.125       377\n",
      "            macro avg      0.124     0.135     0.112       377\n",
      "         weighted avg      0.184     0.125     0.137       377\n",
      "\n"
     ]
    }
   ],
   "source": [
    "#classification_report\n",
    "target_names=['(0, 20]constant','(20, 40]constant','(40, 60]constant','(60, 80]constant','(80, 100]constant','(0, 20]intermittent','(20, 40]intermittent','(40, 60]intermittent','(60, 80]intermittent','(80, 100]intermittent',]\n",
    "print(classification_report(target_test,predictions,digits=3,target_names=target_names,))"
   ]
  },
  {
   "cell_type": "code",
   "execution_count": 48,
   "metadata": {},
   "outputs": [
    {
     "data": {
      "text/plain": [
       "array([0.35625   , 1.05674157, 0.69409594, 0.74642857, 1.254     ,\n",
       "       0.9746114 , 1.69459459, 1.881     , 2.475     , 8.55      ])"
      ]
     },
     "execution_count": 48,
     "metadata": {},
     "output_type": "execute_result"
    }
   ],
   "source": [
    "#Class weights for weighting classes or data points in classifiers\n",
    "compute_class_weight(class_weight='balanced',classes=np.unique(df['target']),y=df['target'])"
   ]
  }
 ],
 "metadata": {
  "kernelspec": {
   "display_name": "Python 3",
   "language": "python",
   "name": "python3"
  },
  "language_info": {
   "codemirror_mode": {
    "name": "ipython",
    "version": 3
   },
   "file_extension": ".py",
   "mimetype": "text/x-python",
   "name": "python",
   "nbconvert_exporter": "python",
   "pygments_lexer": "ipython3",
   "version": "3.8.5"
  }
 },
 "nbformat": 4,
 "nbformat_minor": 4
}
