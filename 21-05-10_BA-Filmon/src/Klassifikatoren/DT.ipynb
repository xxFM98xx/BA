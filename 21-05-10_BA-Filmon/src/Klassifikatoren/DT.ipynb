{
 "cells": [
  {
   "cell_type": "code",
   "execution_count": 12,
   "metadata": {},
   "outputs": [],
   "source": [
    "#Here you must specify your own path\n",
    "root = ''"
   ]
  },
  {
   "cell_type": "code",
   "execution_count": 13,
   "metadata": {},
   "outputs": [],
   "source": [
    "import numpy as np\n",
    "import pandas as pd\n",
    "from sklearn.tree import DecisionTreeClassifier\n",
    "from sklearn.metrics import make_scorer\n",
    "from sklearn.metrics import confusion_matrix\n",
    "from sklearn.metrics import ConfusionMatrixDisplay\n",
    "from sklearn.metrics import f1_score\n",
    "from sklearn.pipeline import Pipeline\n",
    "from sklearn.compose import ColumnTransformer\n",
    "from sklearn.metrics import classification_report\n",
    "from sklearn.preprocessing import OrdinalEncoder"
   ]
  },
  {
   "cell_type": "code",
   "execution_count": 14,
   "metadata": {},
   "outputs": [],
   "source": [
    "# Dic to get the respective target values of the numbers.\n",
    "target_dic = {\n",
    "    0: '(0, 20]constant',\n",
    "    1: '(20, 40]constant',\n",
    "    2: '(40, 60]constant',\n",
    "    3: '(60, 80]constant',\n",
    "    4: '(80, 100]constant',\n",
    "    5: '(0, 20]intermittent',\n",
    "    6: '(20, 40]intermittent',\n",
    "    7: '(40, 60]intermittent',\n",
    "    8: '(60, 80]intermittent',\n",
    "    9: '(80, 100]intermittent',\n",
    "}"
   ]
  },
  {
   "cell_type": "code",
   "execution_count": 15,
   "metadata": {},
   "outputs": [],
   "source": [
    "#Dic to get the class weight of the corresponding class. Computed in Data_split notebook\n",
    "class_weights = {\n",
    "    0: 0.35625,\n",
    "    1: 1.05674157,\n",
    "    2: 0.69409594,\n",
    "    3: 0.74642857,\n",
    "    4: 1.254,\n",
    "    5: 0.9746114,\n",
    "    6: 1.69459459,\n",
    "    7: 1.881,\n",
    "    8: 2.475,\n",
    "    9: 8.55,\n",
    "}"
   ]
  },
  {
   "cell_type": "code",
   "execution_count": 16,
   "metadata": {},
   "outputs": [],
   "source": [
    "#read in csv file into dataframe\n",
    "df_train = pd.read_csv(root + 'data/02_processed/completed_train.csv', sep=';')\n",
    "df_train.pop('Unnamed: 0')\n",
    "\n",
    "df2=df_train.copy()\n",
    "df2.drop(['target','4','66'], axis = 1,inplace=True)\n",
    "\n",
    "\n",
    "#read validation and test data from csv\n",
    "df_validation = pd.read_csv(root + 'data/02_processed/completed_validation.csv', sep=';')\n",
    "df_validation.set_index('user_id',inplace=True)\n",
    "df_test = pd.read_csv(root + 'data/02_processed/completed_test.csv', sep=';')\n",
    "df_test.set_index('user_id',inplace=True)\n",
    "\n",
    "#encode target column of test data\n",
    "target_test=pd.get_dummies(df_test['target'], prefix='target')\n",
    "\n",
    "# target of train data without encoding\n",
    "target_train= df_train['target']\n",
    "\n",
    "#delete target from training data\n",
    "df_train.pop('target')\n",
    "\n",
    "# target of train data without encoding\n",
    "target_test= df_test['target']\n",
    "\n",
    "#delete target from training data\n",
    "df_test.pop('target')\n",
    "\n",
    "train=df_train.copy()\n",
    "test= df_test.copy()"
   ]
  },
  {
   "cell_type": "code",
   "execution_count": 17,
   "metadata": {},
   "outputs": [],
   "source": [
    "#Get the categorical and numerical column names\n",
    "categorical_columns=[]\n",
    "numerical_columns=[]\n",
    "for name, values in train.iteritems():\n",
    "    if values.dtype==np.float64:\n",
    "        numerical_columns.append(name)\n",
    "    if values.dtype==object:\n",
    "        categorical_columns.append(name)"
   ]
  },
  {
   "cell_type": "code",
   "execution_count": 18,
   "metadata": {},
   "outputs": [
    {
     "data": {
      "text/plain": [
       "Pipeline(steps=[('preprocess',\n",
       "                 ColumnTransformer(transformers=[('cat', OrdinalEncoder(),\n",
       "                                                  ['5', '8', '10', '11', '35',\n",
       "                                                   '37', '40', '68', '70', '71',\n",
       "                                                   '72', '74', '76', '78', '79',\n",
       "                                                   '80', '83']),\n",
       "                                                 ('num', 'passthrough',\n",
       "                                                  ['4', '66', '67'])])),\n",
       "                ('classifier',\n",
       "                 DecisionTreeClassifier(max_depth=25, max_features=20,\n",
       "                                        min_samples_leaf=2, random_state=0))])"
      ]
     },
     "execution_count": 18,
     "metadata": {},
     "output_type": "execute_result"
    }
   ],
   "source": [
    "#Encoder to encode categorical variables into integer\n",
    "categorical_encoder = OrdinalEncoder()\n",
    "\n",
    "#ColumnTransformer encodes categorical data with the categorical_encoder.\n",
    "#and numeric columns are not edited.\n",
    "preprocessing = ColumnTransformer(\n",
    "    [('cat', categorical_encoder, categorical_columns),\n",
    "     ('num', 'passthrough', numerical_columns)])\n",
    "\n",
    "#Classifier\n",
    "DT = DecisionTreeClassifier(max_depth=25,max_features=20,\n",
    "                             min_samples_leaf=2,min_samples_split=2, random_state=0\n",
    "                            )\n",
    "\n",
    "#Created Pipeline to combine preprocessing of the data and the classifier.\n",
    "model = Pipeline([\n",
    "    ('preprocess', preprocessing),\n",
    "    ('classifier',DT)\n",
    "])\n",
    "\n",
    "model.fit(train, target_train)"
   ]
  },
  {
   "cell_type": "code",
   "execution_count": 19,
   "metadata": {},
   "outputs": [],
   "source": [
    "#Predictions of the model on the test data\n",
    "predictions = model.predict(test)"
   ]
  },
  {
   "cell_type": "code",
   "execution_count": 20,
   "metadata": {},
   "outputs": [
    {
     "data": {
      "image/png": "[encoded data removed]",
      "text/plain": [
       "<Figure size 432x288 with 2 Axes>"
      ]
     },
     "metadata": {
      "needs_background": "light"
     },
     "output_type": "display_data"
    }
   ],
   "source": [
    "#A confusion matrix  of the predictions of the classifier to see how it performs in detail.\n",
    "c = confusion_matrix(target_test,predictions)\n",
    "cm = ConfusionMatrixDisplay(c).plot()"
   ]
  },
  {
   "cell_type": "code",
   "execution_count": 21,
   "metadata": {},
   "outputs": [
    {
     "data": {
      "text/plain": [
       "0.16333753444722515"
      ]
     },
     "execution_count": 21,
     "metadata": {},
     "output_type": "execute_result"
    }
   ],
   "source": [
    "# F1-score measured on test data\n",
    "f1_score(target_test,predictions,average='macro')"
   ]
  },
  {
   "cell_type": "code",
   "execution_count": 22,
   "metadata": {
    "scrolled": true
   },
   "outputs": [
    {
     "name": "stdout",
     "output_type": "stream",
     "text": [
      "                       precision    recall  f1-score   support\n",
      "\n",
      "      (0, 20]constant      0.415     0.368     0.390       106\n",
      "     (20, 40]constant      0.135     0.139     0.137        36\n",
      "     (40, 60]constant      0.227     0.185     0.204        54\n",
      "     (60, 80]constant      0.242     0.157     0.190        51\n",
      "    (80, 100]constant      0.296     0.267     0.281        30\n",
      "  (0, 20]intermittent      0.163     0.179     0.171        39\n",
      " (20, 40]intermittent      0.061     0.091     0.073        22\n",
      " (40, 60]intermittent      0.074     0.100     0.085        20\n",
      " (60, 80]intermittent      0.083     0.133     0.103        15\n",
      "(80, 100]intermittent      0.000     0.000     0.000         4\n",
      "\n",
      "             accuracy                          0.220       377\n",
      "            macro avg      0.170     0.162     0.163       377\n",
      "         weighted avg      0.246     0.220     0.231       377\n",
      "\n"
     ]
    }
   ],
   "source": [
    "#classification_report\n",
    "target_names=['(0, 20]constant','(20, 40]constant','(40, 60]constant','(60, 80]constant','(80, 100]constant','(0, 20]intermittent','(20, 40]intermittent','(40, 60]intermittent','(60, 80]intermittent','(80, 100]intermittent',]\n",
    "print(classification_report(target_test,predictions,digits=3,target_names=target_names,))"
   ]
  }
 ],
 "metadata": {
  "kernelspec": {
   "display_name": "Python 3",
   "language": "python",
   "name": "python3"
  },
  "language_info": {
   "codemirror_mode": {
    "name": "ipython",
    "version": 3
   },
   "file_extension": ".py",
   "mimetype": "text/x-python",
   "name": "python",
   "nbconvert_exporter": "python",
   "pygments_lexer": "ipython3",
   "version": "3.8.5"
  }
 },
 "nbformat": 4,
 "nbformat_minor": 4
}
