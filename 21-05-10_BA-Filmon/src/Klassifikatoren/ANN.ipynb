{
 "cells": [
  {
   "cell_type": "code",
   "execution_count": 20,
   "metadata": {},
   "outputs": [],
   "source": [
    "#Here you must specify your own path\n",
    "root = ''"
   ]
  },
  {
   "cell_type": "code",
   "execution_count": 21,
   "metadata": {},
   "outputs": [
    {
     "name": "stdout",
     "output_type": "stream",
     "text": [
      "Requirement already satisfied: tensorflow-addons in c:\\programdata\\anaconda3\\lib\\site-packages (0.13.0)\n",
      "Requirement already satisfied: typeguard>=2.7 in c:\\programdata\\anaconda3\\lib\\site-packages (from tensorflow-addons) (2.12.1)\n",
      "Note: you may need to restart the kernel to use updated packages.\n"
     ]
    }
   ],
   "source": [
    "pip install tensorflow-addons"
   ]
  },
  {
   "cell_type": "code",
   "execution_count": 22,
   "metadata": {},
   "outputs": [],
   "source": [
    "import numpy as np\n",
    "import pandas as pd\n",
    "import tensorflow as tf\n",
    "from tensorflow import keras\n",
    "import matplotlib.pyplot as plt\n",
    "from sklearn.metrics import f1_score\n",
    "from sklearn.metrics import confusion_matrix\n",
    "from sklearn.metrics import ConfusionMatrixDisplay\n",
    "import tensorflow_addons as tfa\n",
    "from sklearn.metrics import classification_report\n",
    "from numpy.random import seed\n",
    "seed(0)\n",
    "tf.random.set_seed(0)"
   ]
  },
  {
   "cell_type": "code",
   "execution_count": 23,
   "metadata": {},
   "outputs": [],
   "source": [
    "# Dic to get the respective target values of the numbers.\n",
    "target_dic = {\n",
    "    0: '(0, 20]constant',\n",
    "    1: '(20, 40]constant',\n",
    "    2: '(40, 60]constant',\n",
    "    3: '(60, 80]constant',\n",
    "    4: '(80, 100]constant',\n",
    "    5: '(0, 20]intermittent',\n",
    "    6: '(20, 40]intermittent',\n",
    "    7: '(40, 60]intermittent',\n",
    "    8: '(60, 80]intermittent',\n",
    "    9: '(80, 100]intermittent',\n",
    "}"
   ]
  },
  {
   "cell_type": "code",
   "execution_count": 24,
   "metadata": {},
   "outputs": [],
   "source": [
    "#Dic to get the class weight of the corresponding class. Computed in Data_split notebook\n",
    "class_weights = {\n",
    "    0: 0.35625,\n",
    "    1: 1.05674157,\n",
    "    2: 0.69409594,\n",
    "    3: 0.74642857,\n",
    "    4: 1.254,\n",
    "    5: 0.9746114,\n",
    "    6: 1.69459459,\n",
    "    7: 1.881,\n",
    "    8: 2.475,\n",
    "    9: 8.55,\n",
    "}"
   ]
  },
  {
   "cell_type": "code",
   "execution_count": 25,
   "metadata": {},
   "outputs": [],
   "source": [
    "#read in csv file into dataframe\n",
    "df_train = pd.read_csv(root + 'data/02_processed/completed_train.csv', sep=';')\n",
    "df_train.pop('Unnamed: 0')\n",
    "\n",
    "#read validation and test data from csv\n",
    "df_validation = pd.read_csv(root + 'data/02_processed/completed_validation.csv', sep=';')\n",
    "df_validation.set_index('user_id',inplace=True)\n",
    "df_test = pd.read_csv(root + 'data/02_processed/completed_test.csv', sep=';')\n",
    "df_test.set_index('user_id',inplace=True)\n",
    "target_testO = df_test['target']\n",
    "target_test=pd.get_dummies(df_test['target'], prefix='target')\n",
    "\n",
    "iterator=df_train.copy()\n",
    "iterator.pop('target')\n",
    "\n",
    "#Function to transform dataframe into tf.dataset\n",
    "def df_to_ds(dataframe, shuffle,batch_size):\n",
    "  dataframe = dataframe.copy()\n",
    "  target= pd.get_dummies(dataframe['target'], prefix='target')\n",
    "    \n",
    "  dataframe.pop('target')\n",
    "  dataset = tf.data.Dataset.from_tensor_slices((dict(dataframe), target.values))\n",
    "  if shuffle:\n",
    "    dataset = dataset.shuffle(buffer_size=len(dataframe))\n",
    "  dataset = dataset.batch(batch_size)\n",
    "  return dataset\n",
    "\n",
    "#Transform into tf dataset with batchsize.\n",
    "batch_size = 16\n",
    "train_ds = df_to_ds(df_train,shuffle=True, batch_size=batch_size)\n",
    "val_ds = df_to_ds(df_validation, shuffle=False, batch_size=batch_size)\n",
    "test_ds = df_to_ds(df_test, shuffle=False, batch_size=batch_size)"
   ]
  },
  {
   "cell_type": "code",
   "execution_count": 26,
   "metadata": {},
   "outputs": [
    {
     "data": {
      "text/plain": [
       "{'5': <KerasTensor: shape=(None, 1) dtype=string (created by layer '5')>,\n",
       " '8': <KerasTensor: shape=(None, 1) dtype=string (created by layer '8')>,\n",
       " '10': <KerasTensor: shape=(None, 1) dtype=string (created by layer '10')>,\n",
       " '11': <KerasTensor: shape=(None, 1) dtype=string (created by layer '11')>,\n",
       " '35': <KerasTensor: shape=(None, 1) dtype=string (created by layer '35')>,\n",
       " '37': <KerasTensor: shape=(None, 1) dtype=string (created by layer '37')>,\n",
       " '40': <KerasTensor: shape=(None, 1) dtype=string (created by layer '40')>,\n",
       " '68': <KerasTensor: shape=(None, 1) dtype=string (created by layer '68')>,\n",
       " '70': <KerasTensor: shape=(None, 1) dtype=string (created by layer '70')>,\n",
       " '71': <KerasTensor: shape=(None, 1) dtype=string (created by layer '71')>,\n",
       " '72': <KerasTensor: shape=(None, 1) dtype=string (created by layer '72')>,\n",
       " '74': <KerasTensor: shape=(None, 1) dtype=string (created by layer '74')>,\n",
       " '76': <KerasTensor: shape=(None, 1) dtype=string (created by layer '76')>,\n",
       " '78': <KerasTensor: shape=(None, 1) dtype=string (created by layer '78')>,\n",
       " '79': <KerasTensor: shape=(None, 1) dtype=string (created by layer '79')>,\n",
       " '80': <KerasTensor: shape=(None, 1) dtype=string (created by layer '80')>,\n",
       " '83': <KerasTensor: shape=(None, 1) dtype=string (created by layer '83')>,\n",
       " '4': <KerasTensor: shape=(None, 1) dtype=float32 (created by layer '4')>,\n",
       " '66': <KerasTensor: shape=(None, 1) dtype=float32 (created by layer '66')>,\n",
       " '67': <KerasTensor: shape=(None, 1) dtype=float32 (created by layer '67')>}"
      ]
     },
     "execution_count": 26,
     "metadata": {},
     "output_type": "execute_result"
    }
   ],
   "source": [
    "raw_inputs = {}\n",
    "\n",
    "#Get the categorical and numerical column names\n",
    "categorical_columns=[]\n",
    "numerical_columns=[]\n",
    "for name, values in iterator.iteritems():\n",
    "    if values.dtype==np.float64:\n",
    "        numerical_columns.append(name)\n",
    "    if values.dtype==object:\n",
    "        categorical_columns.append(name)\n",
    "        \n",
    "#creating the inputs for the neural network        \n",
    "for column_name in categorical_columns:\n",
    "      raw_inputs[column_name] = tf.keras.Input(shape=(1,), name=column_name, dtype=tf.string)\n",
    "\n",
    "for column_name in numerical_columns:\n",
    "    raw_inputs[column_name] = tf.keras.Input(shape=(1,), name=column_name, dtype=tf.float32)\n",
    "    \n",
    "raw_inputs"
   ]
  },
  {
   "cell_type": "code",
   "execution_count": 27,
   "metadata": {},
   "outputs": [],
   "source": [
    "inputs=[]\n",
    "for name, input in raw_inputs.items():\n",
    "    if input.dtype == tf.string:\n",
    "     continue\n",
    "    inputs.append(input)\n"
   ]
  },
  {
   "cell_type": "code",
   "execution_count": 28,
   "metadata": {},
   "outputs": [],
   "source": [
    "for name, input in raw_inputs.items():\n",
    " if input.dtype == tf.float32:\n",
    "  continue\n",
    "\n",
    "  string_lookup = preprocessing.StringLookup(vocabulary=np.unique(iterator[name]))\n",
    "  \n",
    "  x = string_lookup(input)\n",
    "  inputs.append(x)\n",
    "  print(inputs)\n"
   ]
  },
  {
   "cell_type": "code",
   "execution_count": 29,
   "metadata": {},
   "outputs": [],
   "source": [
    "#model architecture\n",
    "inputs_cat = keras.layers.Concatenate(axis=1)(inputs)\n",
    "hidden1 = keras.layers.Dense(256,activation=\"elu\",kernel_regularizer=keras.regularizers.l1_l2(l1=1e-5, l2=1e-4),kernel_initializer='lecun_uniform')(inputs_cat)\n",
    "hidden2 = keras.layers.Dense(256,activation=\"elu\",kernel_regularizer=keras.regularizers.l1_l2(l1=1e-5, l2=1e-4),kernel_initializer='lecun_uniform')(hidden1)\n",
    "output = keras.layers.Dense(10,activation=\"softmax\")(hidden2)\n",
    "model= keras.Model(inputs=raw_inputs,outputs=output)"
   ]
  },
  {
   "cell_type": "code",
   "execution_count": 30,
   "metadata": {},
   "outputs": [],
   "source": [
    "#compile model\n",
    "metric= tfa.metrics.F1Score(average='macro',num_classes=10)\n",
    "loss=\"categorical_crossentropy\"\n",
    "optimizer=tf.optimizers.Adam(learning_rate=0.001)\n",
    "model.compile(loss =loss,\n",
    "                      optimizer = optimizer,\n",
    "                       metrics=metric)"
   ]
  },
  {
   "cell_type": "code",
   "execution_count": 31,
   "metadata": {
    "scrolled": false
   },
   "outputs": [
    {
     "name": "stdout",
     "output_type": "stream",
     "text": [
      "Epoch 1/1000\n",
      "199/199 [==============================] - 2s 4ms/step - loss: 2.3600 - f1_score: 0.1662 - val_loss: 2.5608 - val_f1_score: 0.0638\n",
      "Epoch 2/1000\n",
      "199/199 [==============================] - 1s 3ms/step - loss: 2.2620 - f1_score: 0.1807 - val_loss: 2.2532 - val_f1_score: 0.1460\n",
      "Epoch 3/1000\n",
      "199/199 [==============================] - 1s 3ms/step - loss: 2.2243 - f1_score: 0.1851 - val_loss: 2.1693 - val_f1_score: 0.1570\n",
      "Epoch 4/1000\n",
      "199/199 [==============================] - 1s 3ms/step - loss: 2.2063 - f1_score: 0.1862 - val_loss: 2.2182 - val_f1_score: 0.1557\n",
      "Epoch 5/1000\n",
      "199/199 [==============================] - 1s 3ms/step - loss: 2.1857 - f1_score: 0.1976 - val_loss: 2.1860 - val_f1_score: 0.1587\n",
      "Epoch 6/1000\n",
      "199/199 [==============================] - 1s 3ms/step - loss: 2.1688 - f1_score: 0.2021 - val_loss: 2.2758 - val_f1_score: 0.2027\n",
      "Epoch 7/1000\n",
      "199/199 [==============================] - 1s 3ms/step - loss: 2.1717 - f1_score: 0.2144 - val_loss: 2.2165 - val_f1_score: 0.1746\n",
      "Epoch 8/1000\n",
      "199/199 [==============================] - 1s 3ms/step - loss: 2.1544 - f1_score: 0.2256 - val_loss: 2.1979 - val_f1_score: 0.1535\n",
      "Epoch 9/1000\n",
      "199/199 [==============================] - 1s 3ms/step - loss: 2.1475 - f1_score: 0.2081 - val_loss: 2.2210 - val_f1_score: 0.1713\n",
      "Epoch 10/1000\n",
      "199/199 [==============================] - 1s 3ms/step - loss: 2.1337 - f1_score: 0.2118 - val_loss: 2.2537 - val_f1_score: 0.1879\n",
      "Epoch 11/1000\n",
      "199/199 [==============================] - 1s 3ms/step - loss: 2.1262 - f1_score: 0.2121 - val_loss: 2.2578 - val_f1_score: 0.1554\n",
      "Epoch 12/1000\n",
      "199/199 [==============================] - 1s 2ms/step - loss: 2.1205 - f1_score: 0.2179 - val_loss: 2.2820 - val_f1_score: 0.1553\n",
      "Epoch 13/1000\n",
      "199/199 [==============================] - 1s 3ms/step - loss: 2.1156 - f1_score: 0.2056 - val_loss: 2.1785 - val_f1_score: 0.1860\n"
     ]
    }
   ],
   "source": [
    "#if validation loss is increasing the training is stopped.\n",
    "early_stopping= keras.callbacks.EarlyStopping(patience=10)\n",
    "\n",
    "#train model\n",
    "history = model.fit(train_ds,epochs=1000,batch_size=16,\n",
    "                    callbacks=[early_stopping]\n",
    "                    ,validation_data=val_ds)\n",
    "                   "
   ]
  },
  {
   "cell_type": "code",
   "execution_count": 32,
   "metadata": {},
   "outputs": [
    {
     "data": {
      "image/png": "[encoded data removed]",
      "text/plain": [
       "<Figure size 792x504 with 1 Axes>"
      ]
     },
     "metadata": {
      "needs_background": "light"
     },
     "output_type": "display_data"
    }
   ],
   "source": [
    "#Visualization of the Training process\n",
    "pd.DataFrame(history.history).plot(figsize=(11,7))\n",
    "plt.grid(True)\n",
    "plt.gca().set_ylim(0,2.75)\n",
    "plt.show() "
   ]
  },
  {
   "cell_type": "code",
   "execution_count": 33,
   "metadata": {},
   "outputs": [
    {
     "name": "stdout",
     "output_type": "stream",
     "text": [
      "24/24 [==============================] - 0s 2ms/step - loss: 2.1250 - f1_score: 0.1651\n"
     ]
    },
    {
     "name": "stderr",
     "output_type": "stream",
     "text": [
      "C:\\Users\\filmo\\AppData\\Roaming\\Python\\Python38\\site-packages\\tensorflow\\python\\keras\\metrics.py:254: UserWarning: Metric F1Score implements a `reset_states()` method; rename it to `reset_state()` (without the final \"s\"). The name `reset_states()` has been deprecated to improve API consistency.\n",
      "  warnings.warn('Metric %s implements a `reset_states()` method; rename it '\n"
     ]
    },
    {
     "data": {
      "text/plain": [
       "[2.124986171722412, 0.1650993674993515]"
      ]
     },
     "execution_count": 33,
     "metadata": {},
     "output_type": "execute_result"
    }
   ],
   "source": [
    "#evaluate model with test dataset\n",
    "model.evaluate(test_ds)"
   ]
  },
  {
   "cell_type": "code",
   "execution_count": 34,
   "metadata": {},
   "outputs": [],
   "source": [
    "Predictions = np.argmax(model.predict(test_ds),axis=1)\n",
    "y_target = np.argmax(target_test.to_numpy(), axis=1)\n",
    "classes=[0,1,2,3,4,5,6,7,8,9]"
   ]
  },
  {
   "cell_type": "code",
   "execution_count": 35,
   "metadata": {},
   "outputs": [
    {
     "data": {
      "text/plain": [
       "0.16509937391406712"
      ]
     },
     "execution_count": 35,
     "metadata": {},
     "output_type": "execute_result"
    }
   ],
   "source": [
    "# F1-score measured on test data\n",
    "f1_score(target_testO,Predictions,average='macro')"
   ]
  },
  {
   "cell_type": "code",
   "execution_count": 36,
   "metadata": {},
   "outputs": [
    {
     "data": {
      "image/png": "[encoded data removed]",
      "text/plain": [
       "<Figure size 432x288 with 2 Axes>"
      ]
     },
     "metadata": {
      "needs_background": "light"
     },
     "output_type": "display_data"
    }
   ],
   "source": [
    "#A confusion matrix of the predictions of the baseline classifier to see how it performs in detail.\n",
    "c = confusion_matrix(target_testO,pd.Series(Predictions))\n",
    "cm = ConfusionMatrixDisplay(c).plot()"
   ]
  },
  {
   "cell_type": "code",
   "execution_count": 37,
   "metadata": {},
   "outputs": [
    {
     "name": "stdout",
     "output_type": "stream",
     "text": [
      "                       precision    recall  f1-score   support\n",
      "\n",
      "      (0, 20]constant      0.741     0.189     0.301       106\n",
      "     (20, 40]constant      0.227     0.139     0.172        36\n",
      "     (40, 60]constant      0.143     0.019     0.033        54\n",
      "     (60, 80]constant      0.214     0.235     0.224        51\n",
      "    (80, 100]constant      0.233     0.700     0.350        30\n",
      "  (0, 20]intermittent      0.297     0.282     0.289        39\n",
      " (20, 40]intermittent      0.083     0.227     0.122        22\n",
      " (40, 60]intermittent      0.081     0.150     0.105        20\n",
      " (60, 80]intermittent      0.000     0.000     0.000        15\n",
      "(80, 100]intermittent      0.030     0.250     0.054         4\n",
      "\n",
      "             accuracy                          0.210       377\n",
      "            macro avg      0.205     0.219     0.165       377\n",
      "         weighted avg      0.338     0.210     0.207       377\n",
      "\n"
     ]
    }
   ],
   "source": [
    "#classification_report\n",
    "target_names=['(0, 20]constant','(20, 40]constant','(40, 60]constant','(60, 80]constant','(80, 100]constant','(0, 20]intermittent','(20, 40]intermittent','(40, 60]intermittent','(60, 80]intermittent','(80, 100]intermittent',]\n",
    "print(classification_report(target_testO,Predictions,digits=3,target_names=target_names,))"
   ]
  },
  {
   "cell_type": "code",
   "execution_count": 38,
   "metadata": {},
   "outputs": [
    {
     "name": "stdout",
     "output_type": "stream",
     "text": [
      "reached\n"
     ]
    }
   ],
   "source": [
    "print('reached')"
   ]
  }
 ],
 "metadata": {
  "kernelspec": {
   "display_name": "Python 3",
   "language": "python",
   "name": "python3"
  },
  "language_info": {
   "codemirror_mode": {
    "name": "ipython",
    "version": 3
   },
   "file_extension": ".py",
   "mimetype": "text/x-python",
   "name": "python",
   "nbconvert_exporter": "python",
   "pygments_lexer": "ipython3",
   "version": "3.8.5"
  }
 },
 "nbformat": 4,
 "nbformat_minor": 4
}
